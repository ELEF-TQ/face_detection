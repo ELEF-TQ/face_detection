{
 "cells": [
  {
   "cell_type": "code",
   "execution_count": 1,
   "id": "165a1e6c-da4a-4eed-90ce-fde77abf8929",
   "metadata": {},
   "outputs": [],
   "source": [
    "from cv2 import imread\n",
    "from cv2 import imshow\n",
    "from cv2 import waitKey\n",
    "from cv2 import destroyAllWindows\n",
    "from cv2 import CascadeClassifier\n",
    "from cv2 import rectangle\n"
   ]
  },
  {
   "cell_type": "code",
   "execution_count": 10,
   "id": "75747036-b7fc-494b-a5c1-2c08e2c4c3cb",
   "metadata": {},
   "outputs": [],
   "source": [
    "#image-to-handle\n",
    "pixels = imread('people.jpg')"
   ]
  },
  {
   "cell_type": "code",
   "execution_count": 11,
   "id": "c7863263-91e5-4ab9-89f3-0fb9645fddeb",
   "metadata": {},
   "outputs": [],
   "source": [
    "#pre-trained model\n",
    "classifier = CascadeClassifier('classifier_model.xml')"
   ]
  },
  {
   "cell_type": "code",
   "execution_count": 12,
   "id": "4a15d554-3d1a-4f2c-8f5c-1d205b1aa4c1",
   "metadata": {},
   "outputs": [],
   "source": [
    "#perform face detection\n",
    "bboxes = classifier.detectMultiScale(pixels)"
   ]
  },
  {
   "cell_type": "code",
   "execution_count": 13,
   "id": "c3a8292d-4cbc-489e-b3a2-ad4f7418e2e5",
   "metadata": {},
   "outputs": [],
   "source": [
    "#print box for each face\n",
    "for box in bboxes :\n",
    "    x,y,width,height = box\n",
    "    x2,y2 = x+width , y+height\n",
    "    rectangle(pixels , (x,y) , (x2,y2) , (0,0,255),1)"
   ]
  },
  {
   "cell_type": "code",
   "execution_count": 14,
   "id": "6e1f7b2f-c245-493e-a716-5a559625cdec",
   "metadata": {},
   "outputs": [],
   "source": [
    "imshow('face detection',pixels)"
   ]
  },
  {
   "cell_type": "code",
   "execution_count": null,
   "id": "b11ecada-d6f4-4baa-85d9-0c998c0b5a42",
   "metadata": {},
   "outputs": [],
   "source": []
  }
 ],
 "metadata": {
  "kernelspec": {
   "display_name": "Python 3 (ipykernel)",
   "language": "python",
   "name": "python3"
  },
  "language_info": {
   "codemirror_mode": {
    "name": "ipython",
    "version": 3
   },
   "file_extension": ".py",
   "mimetype": "text/x-python",
   "name": "python",
   "nbconvert_exporter": "python",
   "pygments_lexer": "ipython3",
   "version": "3.12.2"
  }
 },
 "nbformat": 4,
 "nbformat_minor": 5
}

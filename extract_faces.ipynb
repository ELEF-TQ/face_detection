{
 "cells": [
  {
   "cell_type": "code",
   "execution_count": 1,
   "id": "b53b2375-f7fb-4d9e-a050-fe9109d3ffa1",
   "metadata": {},
   "outputs": [],
   "source": [
    "from cv2 import imread, imshow, waitKey, destroyAllWindows, rectangle, circle, imwrite\n",
    "from mtcnn.mtcnn import MTCNN"
   ]
  },
  {
   "cell_type": "code",
   "execution_count": 6,
   "id": "7e822858-5a5d-41b6-b25d-bcfaf23b73e4",
   "metadata": {},
   "outputs": [],
   "source": [
    "pixels = imread('people.jpg')"
   ]
  },
  {
   "cell_type": "code",
   "execution_count": 7,
   "id": "2e9384a0-61bf-48d1-95a9-c5d0ff79052d",
   "metadata": {},
   "outputs": [
    {
     "name": "stdout",
     "output_type": "stream",
     "text": [
      "\u001b[1m1/1\u001b[0m \u001b[32m━━━━━━━━━━━━━━━━━━━━\u001b[0m\u001b[37m\u001b[0m \u001b[1m0s\u001b[0m 212ms/step\n",
      "\u001b[1m1/1\u001b[0m \u001b[32m━━━━━━━━━━━━━━━━━━━━\u001b[0m\u001b[37m\u001b[0m \u001b[1m0s\u001b[0m 237ms/step\n",
      "\u001b[1m1/1\u001b[0m \u001b[32m━━━━━━━━━━━━━━━━━━━━\u001b[0m\u001b[37m\u001b[0m \u001b[1m0s\u001b[0m 57ms/step\n",
      "\u001b[1m1/1\u001b[0m \u001b[32m━━━━━━━━━━━━━━━━━━━━\u001b[0m\u001b[37m\u001b[0m \u001b[1m0s\u001b[0m 55ms/step\n",
      "\u001b[1m1/1\u001b[0m \u001b[32m━━━━━━━━━━━━━━━━━━━━\u001b[0m\u001b[37m\u001b[0m \u001b[1m0s\u001b[0m 57ms/step\n",
      "\u001b[1m1/1\u001b[0m \u001b[32m━━━━━━━━━━━━━━━━━━━━\u001b[0m\u001b[37m\u001b[0m \u001b[1m0s\u001b[0m 53ms/step\n",
      "\u001b[1m1/1\u001b[0m \u001b[32m━━━━━━━━━━━━━━━━━━━━\u001b[0m\u001b[37m\u001b[0m \u001b[1m0s\u001b[0m 52ms/step\n",
      "\u001b[1m1/1\u001b[0m \u001b[32m━━━━━━━━━━━━━━━━━━━━\u001b[0m\u001b[37m\u001b[0m \u001b[1m0s\u001b[0m 51ms/step\n",
      "\u001b[1m1/1\u001b[0m \u001b[32m━━━━━━━━━━━━━━━━━━━━\u001b[0m\u001b[37m\u001b[0m \u001b[1m0s\u001b[0m 52ms/step\n",
      "\u001b[1m5/5\u001b[0m \u001b[32m━━━━━━━━━━━━━━━━━━━━\u001b[0m\u001b[37m\u001b[0m \u001b[1m0s\u001b[0m 39ms/step\n",
      "\u001b[1m1/1\u001b[0m \u001b[32m━━━━━━━━━━━━━━━━━━━━\u001b[0m\u001b[37m\u001b[0m \u001b[1m0s\u001b[0m 322ms/step\n"
     ]
    }
   ],
   "source": [
    "# Initialize the MTCNN face detector\n",
    "detector = MTCNN()\n",
    "# Detect faces\n",
    "results = detector.detect_faces(pixels)"
   ]
  },
  {
   "cell_type": "code",
   "execution_count": 8,
   "id": "2b35bcc4-2dea-4a1b-b30d-d98b84c155b4",
   "metadata": {},
   "outputs": [],
   "source": [
    "# Extract and save faces\n",
    "face_count = 0\n",
    "for result in results:\n",
    "    x, y, width, height = result['box']\n",
    "    face = pixels[y:y+height, x:x+width]\n",
    "    face_file_name = f\"face_{face_count}.jpg\"\n",
    "    imwrite(face_file_name, face)\n",
    "    face_count += 1\n",
    "\n",
    "    # Draw bounding box and keypoints on the original image\n",
    "    x2, y2 = x + width, y + height\n",
    "    rectangle(pixels, (x, y), (x2, y2), (0, 0, 255), 2)\n",
    "    keypoints = result['keypoints']\n",
    "    for point in keypoints.values():\n",
    "        circle(pixels, point, 2, (0, 255, 0), 2)"
   ]
  },
  {
   "cell_type": "code",
   "execution_count": 9,
   "id": "abf6c0b9-b4ee-4d47-8c2a-fc3d4ee25247",
   "metadata": {},
   "outputs": [],
   "source": [
    "# Show the image with detected faces and keypoints\n",
    "imshow('face detection', pixels)\n",
    "waitKey(0)\n",
    "destroyAllWindows()"
   ]
  }
 ],
 "metadata": {
  "kernelspec": {
   "display_name": "Python 3 (ipykernel)",
   "language": "python",
   "name": "python3"
  },
  "language_info": {
   "codemirror_mode": {
    "name": "ipython",
    "version": 3
   },
   "file_extension": ".py",
   "mimetype": "text/x-python",
   "name": "python",
   "nbconvert_exporter": "python",
   "pygments_lexer": "ipython3",
   "version": "3.12.2"
  }
 },
 "nbformat": 4,
 "nbformat_minor": 5
}

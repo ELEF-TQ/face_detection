{
 "cells": [
  {
   "cell_type": "code",
   "execution_count": 1,
   "id": "8a5525af-3b8b-4f32-a1dc-6a75ba891b30",
   "metadata": {},
   "outputs": [],
   "source": [
    "from cv2 import imread, imshow, waitKey, destroyAllWindows, rectangle\n",
    "from mtcnn.mtcnn import MTCNN"
   ]
  },
  {
   "cell_type": "code",
   "execution_count": 2,
   "id": "7e4e0570-1e85-4a9e-9633-5cdec3706bc5",
   "metadata": {},
   "outputs": [],
   "source": [
    "# Load the image\n",
    "pixels = imread('assets/people.jpg')"
   ]
  },
  {
   "cell_type": "code",
   "execution_count": 3,
   "id": "1f247a0f-20f6-4893-879a-9bc8c91c2717",
   "metadata": {},
   "outputs": [
    {
     "name": "stdout",
     "output_type": "stream",
     "text": [
      "\u001b[1m1/1\u001b[0m \u001b[32m━━━━━━━━━━━━━━━━━━━━\u001b[0m\u001b[37m\u001b[0m \u001b[1m1s\u001b[0m 584ms/step\n",
      "\u001b[1m1/1\u001b[0m \u001b[32m━━━━━━━━━━━━━━━━━━━━\u001b[0m\u001b[37m\u001b[0m \u001b[1m0s\u001b[0m 261ms/step\n",
      "\u001b[1m1/1\u001b[0m \u001b[32m━━━━━━━━━━━━━━━━━━━━\u001b[0m\u001b[37m\u001b[0m \u001b[1m0s\u001b[0m 35ms/step\n",
      "\u001b[1m1/1\u001b[0m \u001b[32m━━━━━━━━━━━━━━━━━━━━\u001b[0m\u001b[37m\u001b[0m \u001b[1m0s\u001b[0m 41ms/step\n",
      "\u001b[1m1/1\u001b[0m \u001b[32m━━━━━━━━━━━━━━━━━━━━\u001b[0m\u001b[37m\u001b[0m \u001b[1m0s\u001b[0m 33ms/step\n",
      "\u001b[1m1/1\u001b[0m \u001b[32m━━━━━━━━━━━━━━━━━━━━\u001b[0m\u001b[37m\u001b[0m \u001b[1m0s\u001b[0m 56ms/step\n",
      "\u001b[1m1/1\u001b[0m \u001b[32m━━━━━━━━━━━━━━━━━━━━\u001b[0m\u001b[37m\u001b[0m \u001b[1m0s\u001b[0m 55ms/step\n",
      "\u001b[1m1/1\u001b[0m \u001b[32m━━━━━━━━━━━━━━━━━━━━\u001b[0m\u001b[37m\u001b[0m \u001b[1m0s\u001b[0m 55ms/step\n",
      "\u001b[1m1/1\u001b[0m \u001b[32m━━━━━━━━━━━━━━━━━━━━\u001b[0m\u001b[37m\u001b[0m \u001b[1m0s\u001b[0m 54ms/step\n",
      "\u001b[1m5/5\u001b[0m \u001b[32m━━━━━━━━━━━━━━━━━━━━\u001b[0m\u001b[37m\u001b[0m \u001b[1m1s\u001b[0m 65ms/step\n",
      "\u001b[1m1/1\u001b[0m \u001b[32m━━━━━━━━━━━━━━━━━━━━\u001b[0m\u001b[37m\u001b[0m \u001b[1m0s\u001b[0m 388ms/step\n"
     ]
    }
   ],
   "source": [
    "# Initialize the MTCNN face detector\n",
    "detector = MTCNN()\n",
    "\n",
    "# Detect faces\n",
    "results = detector.detect_faces(pixels)\n",
    "\n",
    "# Draw rectangle around each face\n",
    "for result in results:\n",
    "    x, y, width, height = result['box']\n",
    "    x2, y2 = x + width, y + height\n",
    "    rectangle(pixels, (x, y), (x2, y2), (0, 0, 255), 1)"
   ]
  },
  {
   "cell_type": "code",
   "execution_count": 4,
   "id": "46e0dd02-24f3-47cd-bb57-6a41aebb013e",
   "metadata": {},
   "outputs": [],
   "source": [
    "# Show the image with detected faces\n",
    "imshow('face detection', pixels)\n",
    "waitKey(0)\n",
    "destroyAllWindows()"
   ]
  }
 ],
 "metadata": {
  "kernelspec": {
   "display_name": "Python 3 (ipykernel)",
   "language": "python",
   "name": "python3"
  },
  "language_info": {
   "codemirror_mode": {
    "name": "ipython",
    "version": 3
   },
   "file_extension": ".py",
   "mimetype": "text/x-python",
   "name": "python",
   "nbconvert_exporter": "python",
   "pygments_lexer": "ipython3",
   "version": "3.12.2"
  }
 },
 "nbformat": 4,
 "nbformat_minor": 5
}
